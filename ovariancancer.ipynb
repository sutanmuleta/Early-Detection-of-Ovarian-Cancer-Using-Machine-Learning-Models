{
  "nbformat": 4,
  "nbformat_minor": 0,
  "metadata": {
    "colab": {
      "provenance": [],
      "authorship_tag": "ABX9TyP/t7yJjo1ipLpXeX6fZVfk",
      "include_colab_link": true
    },
    "kernelspec": {
      "name": "python3",
      "display_name": "Python 3"
    },
    "language_info": {
      "name": "python"
    }
  },
  "cells": [
    {
      "cell_type": "markdown",
      "metadata": {
        "id": "view-in-github",
        "colab_type": "text"
      },
      "source": [
        "<a href=\"https://colab.research.google.com/github/sutanmuleta/Early-Detection-of-Ovarian-Cancer-Using-Machine-Learning-Models/blob/main/ovariancancer.ipynb\" target=\"_parent\"><img src=\"https://colab.research.google.com/assets/colab-badge.svg\" alt=\"Open In Colab\"/></a>"
      ]
    },
    {
      "cell_type": "code",
      "source": [
        "# Import necessary libraries for data handling and analysis\n",
        "import pandas as pd\n",
        "import numpy as np\n",
        "\n",
        "# Import libraries for data visualization\n",
        "import matplotlib.pyplot as plt\n",
        "import seaborn as sns\n",
        "\n",
        "# Import libraries for model building and evaluation\n",
        "from sklearn.model_selection import train_test_split\n",
        "from sklearn.ensemble import RandomForestClassifier\n",
        "from sklearn.metrics import accuracy_score, precision_score, recall_score, f1_score, roc_auc_score\n",
        "\n",
        "# Import libraries for data preprocessing\n",
        "from sklearn.preprocessing import StandardScaler\n",
        "from sklearn.impute import SimpleImputer\n",
        "\n",
        "# Import libraries for model interpretation\n",
        "# Install the shap library\n",
        "!pip install shap\n",
        "\n",
        "import shap\n"
      ],
      "metadata": {
        "colab": {
          "base_uri": "https://localhost:8080/"
        },
        "id": "Bid2Y5_HzRAy",
        "outputId": "6498378b-db20-4896-d857-0aa7f21a0b70"
      },
      "execution_count": null,
      "outputs": [
        {
          "output_type": "stream",
          "name": "stdout",
          "text": [
            "Collecting shap\n",
            "  Downloading shap-0.46.0-cp310-cp310-manylinux_2_12_x86_64.manylinux2010_x86_64.manylinux_2_17_x86_64.manylinux2014_x86_64.whl.metadata (24 kB)\n",
            "Requirement already satisfied: numpy in /usr/local/lib/python3.10/dist-packages (from shap) (1.26.4)\n",
            "Requirement already satisfied: scipy in /usr/local/lib/python3.10/dist-packages (from shap) (1.13.1)\n",
            "Requirement already satisfied: scikit-learn in /usr/local/lib/python3.10/dist-packages (from shap) (1.3.2)\n",
            "Requirement already satisfied: pandas in /usr/local/lib/python3.10/dist-packages (from shap) (2.1.4)\n",
            "Requirement already satisfied: tqdm>=4.27.0 in /usr/local/lib/python3.10/dist-packages (from shap) (4.66.5)\n",
            "Requirement already satisfied: packaging>20.9 in /usr/local/lib/python3.10/dist-packages (from shap) (24.1)\n",
            "Collecting slicer==0.0.8 (from shap)\n",
            "  Downloading slicer-0.0.8-py3-none-any.whl.metadata (4.0 kB)\n",
            "Requirement already satisfied: numba in /usr/local/lib/python3.10/dist-packages (from shap) (0.60.0)\n",
            "Requirement already satisfied: cloudpickle in /usr/local/lib/python3.10/dist-packages (from shap) (2.2.1)\n",
            "Requirement already satisfied: llvmlite<0.44,>=0.43.0dev0 in /usr/local/lib/python3.10/dist-packages (from numba->shap) (0.43.0)\n",
            "Requirement already satisfied: python-dateutil>=2.8.2 in /usr/local/lib/python3.10/dist-packages (from pandas->shap) (2.8.2)\n",
            "Requirement already satisfied: pytz>=2020.1 in /usr/local/lib/python3.10/dist-packages (from pandas->shap) (2024.1)\n",
            "Requirement already satisfied: tzdata>=2022.1 in /usr/local/lib/python3.10/dist-packages (from pandas->shap) (2024.1)\n",
            "Requirement already satisfied: joblib>=1.1.1 in /usr/local/lib/python3.10/dist-packages (from scikit-learn->shap) (1.4.2)\n",
            "Requirement already satisfied: threadpoolctl>=2.0.0 in /usr/local/lib/python3.10/dist-packages (from scikit-learn->shap) (3.5.0)\n",
            "Requirement already satisfied: six>=1.5 in /usr/local/lib/python3.10/dist-packages (from python-dateutil>=2.8.2->pandas->shap) (1.16.0)\n",
            "Downloading shap-0.46.0-cp310-cp310-manylinux_2_12_x86_64.manylinux2010_x86_64.manylinux_2_17_x86_64.manylinux2014_x86_64.whl (540 kB)\n",
            "\u001b[2K   \u001b[90m━━━━━━━━━━━━━━━━━━━━━━━━━━━━━━━━━━━━━━━━\u001b[0m \u001b[32m540.1/540.1 kB\u001b[0m \u001b[31m15.2 MB/s\u001b[0m eta \u001b[36m0:00:00\u001b[0m\n",
            "\u001b[?25hDownloading slicer-0.0.8-py3-none-any.whl (15 kB)\n",
            "Installing collected packages: slicer, shap\n",
            "Successfully installed shap-0.46.0 slicer-0.0.8\n"
          ]
        }
      ]
    },
    {
      "cell_type": "code",
      "source": [
        "from google.colab import files\n",
        "\n",
        "# Upload the zip file\n",
        "uploaded = files.upload()\n"
      ],
      "metadata": {
        "colab": {
          "base_uri": "https://localhost:8080/",
          "height": 73
        },
        "id": "-JwJjr0t0X_E",
        "outputId": "dd3d1dc7-be5e-4f1c-e60d-1a5ee9685160"
      },
      "execution_count": null,
      "outputs": [
        {
          "output_type": "display_data",
          "data": {
            "text/plain": [
              "<IPython.core.display.HTML object>"
            ],
            "text/html": [
              "\n",
              "     <input type=\"file\" id=\"files-a4d3ef1c-4c79-40b2-8607-b000f86fa7bf\" name=\"files[]\" multiple disabled\n",
              "        style=\"border:none\" />\n",
              "     <output id=\"result-a4d3ef1c-4c79-40b2-8607-b000f86fa7bf\">\n",
              "      Upload widget is only available when the cell has been executed in the\n",
              "      current browser session. Please rerun this cell to enable.\n",
              "      </output>\n",
              "      <script>// Copyright 2017 Google LLC\n",
              "//\n",
              "// Licensed under the Apache License, Version 2.0 (the \"License\");\n",
              "// you may not use this file except in compliance with the License.\n",
              "// You may obtain a copy of the License at\n",
              "//\n",
              "//      http://www.apache.org/licenses/LICENSE-2.0\n",
              "//\n",
              "// Unless required by applicable law or agreed to in writing, software\n",
              "// distributed under the License is distributed on an \"AS IS\" BASIS,\n",
              "// WITHOUT WARRANTIES OR CONDITIONS OF ANY KIND, either express or implied.\n",
              "// See the License for the specific language governing permissions and\n",
              "// limitations under the License.\n",
              "\n",
              "/**\n",
              " * @fileoverview Helpers for google.colab Python module.\n",
              " */\n",
              "(function(scope) {\n",
              "function span(text, styleAttributes = {}) {\n",
              "  const element = document.createElement('span');\n",
              "  element.textContent = text;\n",
              "  for (const key of Object.keys(styleAttributes)) {\n",
              "    element.style[key] = styleAttributes[key];\n",
              "  }\n",
              "  return element;\n",
              "}\n",
              "\n",
              "// Max number of bytes which will be uploaded at a time.\n",
              "const MAX_PAYLOAD_SIZE = 100 * 1024;\n",
              "\n",
              "function _uploadFiles(inputId, outputId) {\n",
              "  const steps = uploadFilesStep(inputId, outputId);\n",
              "  const outputElement = document.getElementById(outputId);\n",
              "  // Cache steps on the outputElement to make it available for the next call\n",
              "  // to uploadFilesContinue from Python.\n",
              "  outputElement.steps = steps;\n",
              "\n",
              "  return _uploadFilesContinue(outputId);\n",
              "}\n",
              "\n",
              "// This is roughly an async generator (not supported in the browser yet),\n",
              "// where there are multiple asynchronous steps and the Python side is going\n",
              "// to poll for completion of each step.\n",
              "// This uses a Promise to block the python side on completion of each step,\n",
              "// then passes the result of the previous step as the input to the next step.\n",
              "function _uploadFilesContinue(outputId) {\n",
              "  const outputElement = document.getElementById(outputId);\n",
              "  const steps = outputElement.steps;\n",
              "\n",
              "  const next = steps.next(outputElement.lastPromiseValue);\n",
              "  return Promise.resolve(next.value.promise).then((value) => {\n",
              "    // Cache the last promise value to make it available to the next\n",
              "    // step of the generator.\n",
              "    outputElement.lastPromiseValue = value;\n",
              "    return next.value.response;\n",
              "  });\n",
              "}\n",
              "\n",
              "/**\n",
              " * Generator function which is called between each async step of the upload\n",
              " * process.\n",
              " * @param {string} inputId Element ID of the input file picker element.\n",
              " * @param {string} outputId Element ID of the output display.\n",
              " * @return {!Iterable<!Object>} Iterable of next steps.\n",
              " */\n",
              "function* uploadFilesStep(inputId, outputId) {\n",
              "  const inputElement = document.getElementById(inputId);\n",
              "  inputElement.disabled = false;\n",
              "\n",
              "  const outputElement = document.getElementById(outputId);\n",
              "  outputElement.innerHTML = '';\n",
              "\n",
              "  const pickedPromise = new Promise((resolve) => {\n",
              "    inputElement.addEventListener('change', (e) => {\n",
              "      resolve(e.target.files);\n",
              "    });\n",
              "  });\n",
              "\n",
              "  const cancel = document.createElement('button');\n",
              "  inputElement.parentElement.appendChild(cancel);\n",
              "  cancel.textContent = 'Cancel upload';\n",
              "  const cancelPromise = new Promise((resolve) => {\n",
              "    cancel.onclick = () => {\n",
              "      resolve(null);\n",
              "    };\n",
              "  });\n",
              "\n",
              "  // Wait for the user to pick the files.\n",
              "  const files = yield {\n",
              "    promise: Promise.race([pickedPromise, cancelPromise]),\n",
              "    response: {\n",
              "      action: 'starting',\n",
              "    }\n",
              "  };\n",
              "\n",
              "  cancel.remove();\n",
              "\n",
              "  // Disable the input element since further picks are not allowed.\n",
              "  inputElement.disabled = true;\n",
              "\n",
              "  if (!files) {\n",
              "    return {\n",
              "      response: {\n",
              "        action: 'complete',\n",
              "      }\n",
              "    };\n",
              "  }\n",
              "\n",
              "  for (const file of files) {\n",
              "    const li = document.createElement('li');\n",
              "    li.append(span(file.name, {fontWeight: 'bold'}));\n",
              "    li.append(span(\n",
              "        `(${file.type || 'n/a'}) - ${file.size} bytes, ` +\n",
              "        `last modified: ${\n",
              "            file.lastModifiedDate ? file.lastModifiedDate.toLocaleDateString() :\n",
              "                                    'n/a'} - `));\n",
              "    const percent = span('0% done');\n",
              "    li.appendChild(percent);\n",
              "\n",
              "    outputElement.appendChild(li);\n",
              "\n",
              "    const fileDataPromise = new Promise((resolve) => {\n",
              "      const reader = new FileReader();\n",
              "      reader.onload = (e) => {\n",
              "        resolve(e.target.result);\n",
              "      };\n",
              "      reader.readAsArrayBuffer(file);\n",
              "    });\n",
              "    // Wait for the data to be ready.\n",
              "    let fileData = yield {\n",
              "      promise: fileDataPromise,\n",
              "      response: {\n",
              "        action: 'continue',\n",
              "      }\n",
              "    };\n",
              "\n",
              "    // Use a chunked sending to avoid message size limits. See b/62115660.\n",
              "    let position = 0;\n",
              "    do {\n",
              "      const length = Math.min(fileData.byteLength - position, MAX_PAYLOAD_SIZE);\n",
              "      const chunk = new Uint8Array(fileData, position, length);\n",
              "      position += length;\n",
              "\n",
              "      const base64 = btoa(String.fromCharCode.apply(null, chunk));\n",
              "      yield {\n",
              "        response: {\n",
              "          action: 'append',\n",
              "          file: file.name,\n",
              "          data: base64,\n",
              "        },\n",
              "      };\n",
              "\n",
              "      let percentDone = fileData.byteLength === 0 ?\n",
              "          100 :\n",
              "          Math.round((position / fileData.byteLength) * 100);\n",
              "      percent.textContent = `${percentDone}% done`;\n",
              "\n",
              "    } while (position < fileData.byteLength);\n",
              "  }\n",
              "\n",
              "  // All done.\n",
              "  yield {\n",
              "    response: {\n",
              "      action: 'complete',\n",
              "    }\n",
              "  };\n",
              "}\n",
              "\n",
              "scope.google = scope.google || {};\n",
              "scope.google.colab = scope.google.colab || {};\n",
              "scope.google.colab._files = {\n",
              "  _uploadFiles,\n",
              "  _uploadFilesContinue,\n",
              "};\n",
              "})(self);\n",
              "</script> "
            ]
          },
          "metadata": {}
        },
        {
          "output_type": "stream",
          "name": "stdout",
          "text": [
            "Saving archive (4).zip to archive (4) (1).zip\n"
          ]
        }
      ]
    },
    {
      "cell_type": "code",
      "source": [
        "import os\n",
        "\n",
        "# Unzip the uploaded file\n",
        "os.system('unzip -o \"archive (4).zip\" -d /content/')\n"
      ],
      "metadata": {
        "colab": {
          "base_uri": "https://localhost:8080/"
        },
        "id": "vmEqSPq40dW1",
        "outputId": "de597518-7682-432b-aef2-2a4bed0387e8"
      },
      "execution_count": null,
      "outputs": [
        {
          "output_type": "execute_result",
          "data": {
            "text/plain": [
              "0"
            ]
          },
          "metadata": {},
          "execution_count": 6
        }
      ]
    },
    {
      "cell_type": "code",
      "source": [
        "# Use the os library to run a shell command to unzip the file\n",
        "import os\n",
        "\n",
        "# Unzip the file into the /content/ directory\n",
        "os.system('unzip -o \"archive (4).zip\" -d /content/')\n",
        "\n",
        "# List the files in the /content/ directory to confirm extraction\n",
        "print(\"Extracted files:\")\n",
        "print(os.listdir('/content/'))\n"
      ],
      "metadata": {
        "colab": {
          "base_uri": "https://localhost:8080/"
        },
        "id": "rkeQzRCq1IMc",
        "outputId": "53805999-77ab-4505-afad-826e3f82c845"
      },
      "execution_count": null,
      "outputs": [
        {
          "output_type": "stream",
          "name": "stdout",
          "text": [
            "Extracted files:\n",
            "['.config', 'archive (4).zip', 'Supplementary data 1.xlsx', 'Supplementary data 2.xlsx', 'Supplementary data 4.xlsx', 'archive (4) (1).zip', 'Supplementary data 5.xlsx', 'Supplementary data 3.xlsx', 'sample_data']\n"
          ]
        }
      ]
    },
    {
      "cell_type": "code",
      "source": [
        "import pandas as pd\n",
        "\n",
        "# Load each Excel file into a pandas DataFrame\n",
        "data1 = pd.read_excel('/content/Supplementary data 1.xlsx')\n",
        "data2 = pd.read_excel('/content/Supplementary data 2.xlsx')\n",
        "data3 = pd.read_excel('/content/Supplementary data 3.xlsx')\n",
        "data4 = pd.read_excel('/content/Supplementary data 4.xlsx')\n",
        "data5 = pd.read_excel('/content/Supplementary data 5.xlsx')\n",
        "\n",
        "# Display the first few rows of each dataset to understand their structure\n",
        "print(\"Data 1:\")\n",
        "print(data1.head())\n",
        "\n",
        "print(\"\\nData 2:\")\n",
        "print(data2.head())\n",
        "\n",
        "print(\"\\nData 3:\")\n",
        "print(data3.head())\n",
        "\n",
        "print(\"\\nData 4:\")\n",
        "print(data4.head())\n",
        "\n",
        "print(\"\\nData 5:\")\n",
        "print(data5.head())\n"
      ],
      "metadata": {
        "colab": {
          "base_uri": "https://localhost:8080/"
        },
        "id": "5fqRd3T-1ME1",
        "outputId": "89461b5a-90db-4600-b966-c262fa182865"
      },
      "execution_count": null,
      "outputs": [
        {
          "output_type": "stream",
          "name": "stdout",
          "text": [
            "Data 1:\n",
            "   SUBJECT_ID      AFP     AG  Age   ALB   ALP   ALT   AST  BASO#  BASO%  ...  \\\n",
            "0           1   3.58\\t  19.36   47  45.4  56.0  11.0  24.0   0.01   0.30  ...   \n",
            "1           2  34.24\\t  23.98   61  39.9  95.0   9.0  13.0   0.02   0.30  ...   \n",
            "2           3   1.50\\t  18.40   39  45.4  77.0   9.0  18.0   0.03   0.60  ...   \n",
            "3           4     2.75  16.60   45  39.2  26.0  16.0  17.0   0.05   0.74  ...   \n",
            "4           5     2.36  19.97   45  35.0  47.0  21.0  27.0   0.01   0.10  ...   \n",
            "\n",
            "    NEU   PCT   PDW  PHOS  PLT   RBC   RDW  TBIL    TP     UA  \n",
            "0  76.2  0.09  13.4  1.46   74  2.64  13.7   5.5  73.9  396.4  \n",
            "1  76.5  0.30  11.2  1.09  304  4.89  12.7   6.8  72.0  119.2  \n",
            "2  69.7  0.13  15.2  0.97  112  4.62  12.0  14.8  77.9  209.2  \n",
            "3  65.5  0.25  17.4  1.25  339  4.01  14.6  10.9  66.1  215.6  \n",
            "4  59.5  0.28  11.9  0.94  272  4.40  13.4   5.3  66.5  206.0  \n",
            "\n",
            "[5 rows x 51 columns]\n",
            "\n",
            "Data 2:\n",
            "  Biomarker             Biomarker Name\n",
            "0       MPV       Mean platelet volume\n",
            "1     BASO#        Basophil Cell Count\n",
            "2      PHOS                 phosphorus\n",
            "3      GLU.                    glucose\n",
            "4    CA72-4  Carbohydrate antigen 72-4\n",
            "\n",
            "Data 3:\n",
            "   TYPE    MPV  BASO#  PHOS   GLU.     K   AST  BASO%    Mg  Menopause  ...  \\\n",
            "0     0  11.70   0.01  1.46   4.67  5.36  24.0   0.30  0.78          0  ...   \n",
            "1     0  10.00   0.02  1.09  10.50  4.38  13.0   0.30  0.82          1  ...   \n",
            "2     0  11.40   0.03  0.97   4.64  4.30  18.0   0.60  1.00          0  ...   \n",
            "3     0   7.38   0.05  1.25   4.76  4.70  17.0   0.74  1.11          1  ...   \n",
            "4     0  10.40   0.01  0.94   4.07  4.77  27.0   0.10  1.08          0  ...   \n",
            "\n",
            "     TP     UA   RBC   PCT  CO2CP  TBIL    HCT  MONO%    MCV   ALP  \n",
            "0  73.9  396.4  2.64  0.09   19.9   5.5  0.273   5.70  103.4  56.0  \n",
            "1  72.0  119.2  4.89  0.30   22.3   6.8  0.417   5.50   85.3  95.0  \n",
            "2  77.9  209.2  4.62  0.13   22.2  14.8  0.391   5.40   84.6  77.0  \n",
            "3  66.1  215.6  4.01  0.25   24.0  10.9  0.372   6.55   92.6  26.0  \n",
            "4  66.5  206.0  4.40  0.28   26.2   5.3  0.383  10.00   87.0  47.0  \n",
            "\n",
            "[5 rows x 49 columns]\n",
            "\n",
            "Data 4:\n",
            "   SUBJECT_ID      AFP     AG  Age   ALB   ALP   ALT   AST  BASO#  BASO%  ...  \\\n",
            "0           1   3.58\\t  19.36   47  45.4  56.0  11.0  24.0   0.01   0.30  ...   \n",
            "1           2  34.24\\t  23.98   61  39.9  95.0   9.0  13.0   0.02   0.30  ...   \n",
            "2           3   1.50\\t  18.40   39  45.4  77.0   9.0  18.0   0.03   0.60  ...   \n",
            "3           4     2.75  16.60   45  39.2  26.0  16.0  17.0   0.05   0.74  ...   \n",
            "4           5     2.36  19.97   45  35.0  47.0  21.0  27.0   0.01   0.10  ...   \n",
            "\n",
            "    NEU   PCT   PDW  PHOS  PLT   RBC   RDW  TBIL    TP     UA  \n",
            "0  76.2  0.09  13.4  1.46   74  2.64  13.7   5.5  73.9  396.4  \n",
            "1  76.5  0.30  11.2  1.09  304  4.89  12.7   6.8  72.0  119.2  \n",
            "2  69.7  0.13  15.2  0.97  112  4.62  12.0  14.8  77.9  209.2  \n",
            "3  65.5  0.25  17.4  1.25  339  4.01  14.6  10.9  66.1  215.6  \n",
            "4  59.5  0.28  11.9  0.94  272  4.40  13.4   5.3  66.5  206.0  \n",
            "\n",
            "[5 rows x 51 columns]\n",
            "\n",
            "Data 5:\n",
            "   SUBJECT_ID   AFP     AG  Age   ALB    ALP   ALT   AST  BASO#  BASO%  ...  \\\n",
            "0         301  2.26  23.00   56  35.1  105.0  12.0  20.0   0.04    0.4  ...   \n",
            "1         302  3.11  12.00   72  44.8  128.0  13.0  24.0   0.00    0.0  ...   \n",
            "2         303  5.02  17.05   57  41.1   89.0  18.0  22.0   0.01    0.3  ...   \n",
            "3         304  1.63  16.26   43  35.2   68.0   5.0  13.0   0.00    0.0  ...   \n",
            "4         305  4.76  12.60   65  40.2   81.0   6.0  14.0   0.04    0.5  ...   \n",
            "\n",
            "    NEU   PCT   PDW  PHOS  PLT   RBC   RDW  TBIL    TP     UA  \n",
            "0  75.7  0.62   9.8  1.40  652  4.88  13.2   9.5  73.8  350.3  \n",
            "1  87.8  0.16  11.9  1.41  155  4.41  12.2  21.7  72.2  283.8  \n",
            "2  61.1  0.15  11.3  1.19  144  4.64  12.3  15.0  71.4  301.3  \n",
            "3  84.2  0.26  12.8  0.99  230  3.67  14.1   9.9  59.0  176.5  \n",
            "4  70.6  0.36  10.7  0.78  375  4.08  12.5   8.2  70.6  308.6  \n",
            "\n",
            "[5 rows x 51 columns]\n"
          ]
        }
      ]
    },
    {
      "cell_type": "code",
      "source": [
        "# Display column names and data types for each dataset\n",
        "print(\"Data 1 Info:\")\n",
        "print(data1.info())\n",
        "print(\"\\nData 2 Info:\")\n",
        "print(data2.info())\n",
        "print(\"\\nData 3 Info:\")\n",
        "print(data3.info())\n",
        "print(\"\\nData 4 Info:\")\n",
        "print(data4.info())\n",
        "print(\"\\nData 5 Info:\")\n",
        "print(data5.info())\n"
      ],
      "metadata": {
        "colab": {
          "base_uri": "https://localhost:8080/"
        },
        "id": "20Qz4UA51wZo",
        "outputId": "be074ad1-2f6e-4464-f766-e2088ded7786"
      },
      "execution_count": null,
      "outputs": [
        {
          "output_type": "stream",
          "name": "stdout",
          "text": [
            "Data 1 Info:\n",
            "<class 'pandas.core.frame.DataFrame'>\n",
            "RangeIndex: 349 entries, 0 to 348\n",
            "Data columns (total 51 columns):\n",
            " #   Column      Non-Null Count  Dtype  \n",
            "---  ------      --------------  -----  \n",
            " 0   SUBJECT_ID  349 non-null    int64  \n",
            " 1   AFP         327 non-null    object \n",
            " 2   AG          348 non-null    float64\n",
            " 3   Age         349 non-null    int64  \n",
            " 4   ALB         339 non-null    float64\n",
            " 5   ALP         339 non-null    float64\n",
            " 6   ALT         339 non-null    float64\n",
            " 7   AST         339 non-null    float64\n",
            " 8   BASO#       349 non-null    float64\n",
            " 9   BASO%       349 non-null    float64\n",
            " 10  BUN         349 non-null    float64\n",
            " 11  Ca          349 non-null    float64\n",
            " 12  CA125       332 non-null    object \n",
            " 13  CA19-9      325 non-null    object \n",
            " 14  CA72-4      109 non-null    float64\n",
            " 15  CEA         327 non-null    float64\n",
            " 16  CL          349 non-null    float64\n",
            " 17  CO2CP       348 non-null    float64\n",
            " 18  CREA        349 non-null    float64\n",
            " 19  TYPE        349 non-null    int64  \n",
            " 20  DBIL        339 non-null    float64\n",
            " 21  EO#         349 non-null    float64\n",
            " 22  EO%         349 non-null    float64\n",
            " 23  GGT         339 non-null    float64\n",
            " 24  GLO         339 non-null    float64\n",
            " 25  GLU.        349 non-null    float64\n",
            " 26  HCT         349 non-null    float64\n",
            " 27  HE4         329 non-null    float64\n",
            " 28  HGB         349 non-null    float64\n",
            " 29  IBIL        339 non-null    float64\n",
            " 30  K           349 non-null    float64\n",
            " 31  LYM#        349 non-null    float64\n",
            " 32  LYM%        349 non-null    float64\n",
            " 33  MCH         349 non-null    float64\n",
            " 34  MCV         349 non-null    float64\n",
            " 35  Menopause   349 non-null    int64  \n",
            " 36  Mg          349 non-null    float64\n",
            " 37  MONO#       349 non-null    float64\n",
            " 38  MONO%       349 non-null    float64\n",
            " 39  MPV         347 non-null    float64\n",
            " 40  Na          349 non-null    float64\n",
            " 41  NEU         258 non-null    float64\n",
            " 42  PCT         347 non-null    float64\n",
            " 43  PDW         347 non-null    float64\n",
            " 44  PHOS        349 non-null    float64\n",
            " 45  PLT         349 non-null    int64  \n",
            " 46  RBC         349 non-null    float64\n",
            " 47  RDW         349 non-null    float64\n",
            " 48  TBIL        339 non-null    float64\n",
            " 49  TP          339 non-null    float64\n",
            " 50  UA          349 non-null    float64\n",
            "dtypes: float64(43), int64(5), object(3)\n",
            "memory usage: 139.2+ KB\n",
            "None\n",
            "\n",
            "Data 2 Info:\n",
            "<class 'pandas.core.frame.DataFrame'>\n",
            "RangeIndex: 47 entries, 0 to 46\n",
            "Data columns (total 2 columns):\n",
            " #   Column          Non-Null Count  Dtype \n",
            "---  ------          --------------  ----- \n",
            " 0   Biomarker       47 non-null     object\n",
            " 1   Biomarker Name  47 non-null     object\n",
            "dtypes: object(2)\n",
            "memory usage: 880.0+ bytes\n",
            "None\n",
            "\n",
            "Data 3 Info:\n",
            "<class 'pandas.core.frame.DataFrame'>\n",
            "RangeIndex: 235 entries, 0 to 234\n",
            "Data columns (total 49 columns):\n",
            " #   Column     Non-Null Count  Dtype  \n",
            "---  ------     --------------  -----  \n",
            " 0   TYPE       235 non-null    int64  \n",
            " 1   MPV        235 non-null    float64\n",
            " 2   BASO#      235 non-null    float64\n",
            " 3   PHOS       235 non-null    float64\n",
            " 4   GLU.       235 non-null    float64\n",
            " 5   K          235 non-null    float64\n",
            " 6   AST        235 non-null    float64\n",
            " 7   BASO%      235 non-null    float64\n",
            " 8   Mg         235 non-null    float64\n",
            " 9   Menopause  235 non-null    int64  \n",
            " 10  CL         235 non-null    float64\n",
            " 11  CEA        235 non-null    float64\n",
            " 12  EO#        235 non-null    float64\n",
            " 13  CA19-9     235 non-null    float64\n",
            " 14  ALB        235 non-null    float64\n",
            " 15  IBIL       235 non-null    float64\n",
            " 16  GGT        235 non-null    float64\n",
            " 17  MCH        235 non-null    float64\n",
            " 18  GLO        235 non-null    float64\n",
            " 19  ALT        235 non-null    float64\n",
            " 20  DBIL       235 non-null    float64\n",
            " 21  Age        235 non-null    int64  \n",
            " 22  RDW        235 non-null    float64\n",
            " 23  PDW        235 non-null    float64\n",
            " 24  CREA       235 non-null    float64\n",
            " 25  AFP        235 non-null    float64\n",
            " 26  HGB        235 non-null    float64\n",
            " 27  Na         235 non-null    float64\n",
            " 28  HE4        235 non-null    float64\n",
            " 29  LYM#       235 non-null    float64\n",
            " 30  CA125      235 non-null    float64\n",
            " 31  BUN        235 non-null    float64\n",
            " 32  LYM%       235 non-null    float64\n",
            " 33  Ca         235 non-null    float64\n",
            " 34  AG         235 non-null    float64\n",
            " 35  MONO#      235 non-null    float64\n",
            " 36  PLT        235 non-null    int64  \n",
            " 37  NEU        235 non-null    float64\n",
            " 38  EO%        235 non-null    float64\n",
            " 39  TP         235 non-null    float64\n",
            " 40  UA         235 non-null    float64\n",
            " 41  RBC        235 non-null    float64\n",
            " 42  PCT        235 non-null    float64\n",
            " 43  CO2CP      235 non-null    float64\n",
            " 44  TBIL       235 non-null    float64\n",
            " 45  HCT        235 non-null    float64\n",
            " 46  MONO%      235 non-null    float64\n",
            " 47  MCV        235 non-null    float64\n",
            " 48  ALP        235 non-null    float64\n",
            "dtypes: float64(45), int64(4)\n",
            "memory usage: 90.1 KB\n",
            "None\n",
            "\n",
            "Data 4 Info:\n",
            "<class 'pandas.core.frame.DataFrame'>\n",
            "RangeIndex: 235 entries, 0 to 234\n",
            "Data columns (total 51 columns):\n",
            " #   Column      Non-Null Count  Dtype  \n",
            "---  ------      --------------  -----  \n",
            " 0   SUBJECT_ID  235 non-null    int64  \n",
            " 1   AFP         213 non-null    object \n",
            " 2   AG          235 non-null    float64\n",
            " 3   Age         235 non-null    int64  \n",
            " 4   ALB         230 non-null    float64\n",
            " 5   ALP         230 non-null    float64\n",
            " 6   ALT         230 non-null    float64\n",
            " 7   AST         230 non-null    float64\n",
            " 8   BASO#       235 non-null    float64\n",
            " 9   BASO%       235 non-null    float64\n",
            " 10  BUN         235 non-null    float64\n",
            " 11  Ca          235 non-null    float64\n",
            " 12  CA125       218 non-null    object \n",
            " 13  CA19-9      212 non-null    object \n",
            " 14  CA72-4      107 non-null    float64\n",
            " 15  CEA         213 non-null    float64\n",
            " 16  CL          235 non-null    float64\n",
            " 17  CO2CP       235 non-null    float64\n",
            " 18  CREA        235 non-null    float64\n",
            " 19  TYPE        235 non-null    int64  \n",
            " 20  DBIL        230 non-null    float64\n",
            " 21  EO#         235 non-null    float64\n",
            " 22  EO%         235 non-null    float64\n",
            " 23  GGT         230 non-null    float64\n",
            " 24  GLO         230 non-null    float64\n",
            " 25  GLU.        235 non-null    float64\n",
            " 26  HCT         235 non-null    float64\n",
            " 27  HE4         215 non-null    float64\n",
            " 28  HGB         235 non-null    float64\n",
            " 29  IBIL        230 non-null    float64\n",
            " 30  K           235 non-null    float64\n",
            " 31  LYM#        235 non-null    float64\n",
            " 32  LYM%        235 non-null    float64\n",
            " 33  MCH         235 non-null    float64\n",
            " 34  MCV         235 non-null    float64\n",
            " 35  Menopause   235 non-null    int64  \n",
            " 36  Mg          235 non-null    float64\n",
            " 37  MONO#       235 non-null    float64\n",
            " 38  MONO%       235 non-null    float64\n",
            " 39  MPV         234 non-null    float64\n",
            " 40  Na          235 non-null    float64\n",
            " 41  NEU         235 non-null    float64\n",
            " 42  PCT         234 non-null    float64\n",
            " 43  PDW         234 non-null    float64\n",
            " 44  PHOS        235 non-null    float64\n",
            " 45  PLT         235 non-null    int64  \n",
            " 46  RBC         235 non-null    float64\n",
            " 47  RDW         235 non-null    float64\n",
            " 48  TBIL        230 non-null    float64\n",
            " 49  TP          230 non-null    float64\n",
            " 50  UA          235 non-null    float64\n",
            "dtypes: float64(43), int64(5), object(3)\n",
            "memory usage: 93.8+ KB\n",
            "None\n",
            "\n",
            "Data 5 Info:\n",
            "<class 'pandas.core.frame.DataFrame'>\n",
            "RangeIndex: 114 entries, 0 to 113\n",
            "Data columns (total 51 columns):\n",
            " #   Column      Non-Null Count  Dtype  \n",
            "---  ------      --------------  -----  \n",
            " 0   SUBJECT_ID  114 non-null    int64  \n",
            " 1   AFP         114 non-null    object \n",
            " 2   AG          113 non-null    float64\n",
            " 3   Age         114 non-null    int64  \n",
            " 4   ALB         109 non-null    float64\n",
            " 5   ALP         109 non-null    float64\n",
            " 6   ALT         109 non-null    float64\n",
            " 7   AST         109 non-null    float64\n",
            " 8   BASO#       114 non-null    float64\n",
            " 9   BASO%       114 non-null    float64\n",
            " 10  BUN         114 non-null    float64\n",
            " 11  Ca          114 non-null    float64\n",
            " 12  CA125       114 non-null    float64\n",
            " 13  CA19-9      113 non-null    object \n",
            " 14  CA72-4      2 non-null      float64\n",
            " 15  CEA         114 non-null    float64\n",
            " 16  CL          114 non-null    float64\n",
            " 17  CO2CP       113 non-null    float64\n",
            " 18  CREA        114 non-null    int64  \n",
            " 19  TYPE        114 non-null    int64  \n",
            " 20  DBIL        109 non-null    float64\n",
            " 21  EO#         114 non-null    float64\n",
            " 22  EO%         114 non-null    float64\n",
            " 23  GGT         109 non-null    float64\n",
            " 24  GLO         109 non-null    float64\n",
            " 25  GLU.        114 non-null    float64\n",
            " 26  HCT         114 non-null    float64\n",
            " 27  HE4         114 non-null    float64\n",
            " 28  HGB         114 non-null    int64  \n",
            " 29  IBIL        109 non-null    float64\n",
            " 30  K           114 non-null    float64\n",
            " 31  LYM#        114 non-null    float64\n",
            " 32  LYM%        114 non-null    float64\n",
            " 33  MCH         114 non-null    float64\n",
            " 34  MCV         114 non-null    float64\n",
            " 35  Menopause   114 non-null    int64  \n",
            " 36  Mg          114 non-null    float64\n",
            " 37  MONO#       114 non-null    float64\n",
            " 38  MONO%       114 non-null    float64\n",
            " 39  MPV         113 non-null    float64\n",
            " 40  Na          114 non-null    float64\n",
            " 41  NEU         23 non-null     float64\n",
            " 42  PCT         113 non-null    float64\n",
            " 43  PDW         113 non-null    float64\n",
            " 44  PHOS        114 non-null    float64\n",
            " 45  PLT         114 non-null    int64  \n",
            " 46  RBC         114 non-null    float64\n",
            " 47  RDW         114 non-null    float64\n",
            " 48  TBIL        109 non-null    float64\n",
            " 49  TP          109 non-null    float64\n",
            " 50  UA          114 non-null    float64\n",
            "dtypes: float64(42), int64(7), object(2)\n",
            "memory usage: 45.5+ KB\n",
            "None\n"
          ]
        }
      ]
    },
    {
      "cell_type": "code",
      "source": [
        "# Check for missing values in each dataset\n",
        "print(\"Missing values in Data 1:\")\n",
        "print(data1.isnull().sum())\n",
        "\n",
        "print(\"\\nMissing values in Data 2:\")\n",
        "print(data2.isnull().sum())\n",
        "\n",
        "print(\"\\nMissing values in Data 3:\")\n",
        "print(data3.isnull().sum())\n",
        "\n",
        "print(\"\\nMissing values in Data 4:\")\n",
        "print(data4.isnull().sum())\n",
        "\n",
        "print(\"\\nMissing values in Data 5:\")\n",
        "print(data5.isnull().sum())\n"
      ],
      "metadata": {
        "colab": {
          "base_uri": "https://localhost:8080/"
        },
        "id": "-UdYDGlj2aoG",
        "outputId": "eb29b745-660d-44f7-dd2c-616ba79b09b0"
      },
      "execution_count": null,
      "outputs": [
        {
          "output_type": "stream",
          "name": "stdout",
          "text": [
            "Missing values in Data 1:\n",
            "SUBJECT_ID      0\n",
            "AFP            22\n",
            "AG              1\n",
            "Age             0\n",
            "ALB            10\n",
            "ALP            10\n",
            "ALT            10\n",
            "AST            10\n",
            "BASO#           0\n",
            "BASO%           0\n",
            "BUN             0\n",
            "Ca              0\n",
            "CA125          17\n",
            "CA19-9         24\n",
            "CA72-4        240\n",
            "CEA            22\n",
            "CL              0\n",
            "CO2CP           1\n",
            "CREA            0\n",
            "TYPE            0\n",
            "DBIL           10\n",
            "EO#             0\n",
            "EO%             0\n",
            "GGT            10\n",
            "GLO            10\n",
            "GLU.            0\n",
            "HCT             0\n",
            "HE4            20\n",
            "HGB             0\n",
            "IBIL           10\n",
            "K               0\n",
            "LYM#            0\n",
            "LYM%            0\n",
            "MCH             0\n",
            "MCV             0\n",
            "Menopause       0\n",
            "Mg              0\n",
            "MONO#           0\n",
            "MONO%           0\n",
            "MPV             2\n",
            "Na              0\n",
            "NEU            91\n",
            "PCT             2\n",
            "PDW             2\n",
            "PHOS            0\n",
            "PLT             0\n",
            "RBC             0\n",
            "RDW             0\n",
            "TBIL           10\n",
            "TP             10\n",
            "UA              0\n",
            "dtype: int64\n",
            "\n",
            "Missing values in Data 2:\n",
            "Biomarker         0\n",
            "Biomarker Name    0\n",
            "dtype: int64\n",
            "\n",
            "Missing values in Data 3:\n",
            "TYPE         0\n",
            "MPV          0\n",
            "BASO#        0\n",
            "PHOS         0\n",
            "GLU.         0\n",
            "K            0\n",
            "AST          0\n",
            "BASO%        0\n",
            "Mg           0\n",
            "Menopause    0\n",
            "CL           0\n",
            "CEA          0\n",
            "EO#          0\n",
            "CA19-9       0\n",
            "ALB          0\n",
            "IBIL         0\n",
            "GGT          0\n",
            "MCH          0\n",
            "GLO          0\n",
            "ALT          0\n",
            "DBIL         0\n",
            "Age          0\n",
            "RDW          0\n",
            "PDW          0\n",
            "CREA         0\n",
            "AFP          0\n",
            "HGB          0\n",
            "Na           0\n",
            "HE4          0\n",
            "LYM#         0\n",
            "CA125        0\n",
            "BUN          0\n",
            "LYM%         0\n",
            "Ca           0\n",
            "AG           0\n",
            "MONO#        0\n",
            "PLT          0\n",
            "NEU          0\n",
            "EO%          0\n",
            "TP           0\n",
            "UA           0\n",
            "RBC          0\n",
            "PCT          0\n",
            "CO2CP        0\n",
            "TBIL         0\n",
            "HCT          0\n",
            "MONO%        0\n",
            "MCV          0\n",
            "ALP          0\n",
            "dtype: int64\n",
            "\n",
            "Missing values in Data 4:\n",
            "SUBJECT_ID      0\n",
            "AFP            22\n",
            "AG              0\n",
            "Age             0\n",
            "ALB             5\n",
            "ALP             5\n",
            "ALT             5\n",
            "AST             5\n",
            "BASO#           0\n",
            "BASO%           0\n",
            "BUN             0\n",
            "Ca              0\n",
            "CA125          17\n",
            "CA19-9         23\n",
            "CA72-4        128\n",
            "CEA            22\n",
            "CL              0\n",
            "CO2CP           0\n",
            "CREA            0\n",
            "TYPE            0\n",
            "DBIL            5\n",
            "EO#             0\n",
            "EO%             0\n",
            "GGT             5\n",
            "GLO             5\n",
            "GLU.            0\n",
            "HCT             0\n",
            "HE4            20\n",
            "HGB             0\n",
            "IBIL            5\n",
            "K               0\n",
            "LYM#            0\n",
            "LYM%            0\n",
            "MCH             0\n",
            "MCV             0\n",
            "Menopause       0\n",
            "Mg              0\n",
            "MONO#           0\n",
            "MONO%           0\n",
            "MPV             1\n",
            "Na              0\n",
            "NEU             0\n",
            "PCT             1\n",
            "PDW             1\n",
            "PHOS            0\n",
            "PLT             0\n",
            "RBC             0\n",
            "RDW             0\n",
            "TBIL            5\n",
            "TP              5\n",
            "UA              0\n",
            "dtype: int64\n",
            "\n",
            "Missing values in Data 5:\n",
            "SUBJECT_ID      0\n",
            "AFP             0\n",
            "AG              1\n",
            "Age             0\n",
            "ALB             5\n",
            "ALP             5\n",
            "ALT             5\n",
            "AST             5\n",
            "BASO#           0\n",
            "BASO%           0\n",
            "BUN             0\n",
            "Ca              0\n",
            "CA125           0\n",
            "CA19-9          1\n",
            "CA72-4        112\n",
            "CEA             0\n",
            "CL              0\n",
            "CO2CP           1\n",
            "CREA            0\n",
            "TYPE            0\n",
            "DBIL            5\n",
            "EO#             0\n",
            "EO%             0\n",
            "GGT             5\n",
            "GLO             5\n",
            "GLU.            0\n",
            "HCT             0\n",
            "HE4             0\n",
            "HGB             0\n",
            "IBIL            5\n",
            "K               0\n",
            "LYM#            0\n",
            "LYM%            0\n",
            "MCH             0\n",
            "MCV             0\n",
            "Menopause       0\n",
            "Mg              0\n",
            "MONO#           0\n",
            "MONO%           0\n",
            "MPV             1\n",
            "Na              0\n",
            "NEU            91\n",
            "PCT             1\n",
            "PDW             1\n",
            "PHOS            0\n",
            "PLT             0\n",
            "RBC             0\n",
            "RDW             0\n",
            "TBIL            5\n",
            "TP              5\n",
            "UA              0\n",
            "dtype: int64\n"
          ]
        }
      ]
    },
    {
      "cell_type": "code",
      "source": [
        "# Convert object columns that should be numeric\n",
        "for column in data1.columns:\n",
        "    if data1[column].dtype == 'object':\n",
        "        data1[column] = pd.to_numeric(data1[column], errors='coerce')\n",
        "\n",
        "# Re-check data types to ensure conversion\n",
        "print(data1.dtypes)\n"
      ],
      "metadata": {
        "colab": {
          "base_uri": "https://localhost:8080/"
        },
        "id": "tXtOCz7x3j0S",
        "outputId": "6f853386-0de8-424f-eec3-21f43c06fc74"
      },
      "execution_count": null,
      "outputs": [
        {
          "output_type": "stream",
          "name": "stdout",
          "text": [
            "SUBJECT_ID      int64\n",
            "AFP           float64\n",
            "AG            float64\n",
            "Age             int64\n",
            "ALB           float64\n",
            "ALP           float64\n",
            "ALT           float64\n",
            "AST           float64\n",
            "BASO#         float64\n",
            "BASO%         float64\n",
            "BUN           float64\n",
            "Ca            float64\n",
            "CA125         float64\n",
            "CA19-9        float64\n",
            "CA72-4        float64\n",
            "CEA           float64\n",
            "CL            float64\n",
            "CO2CP         float64\n",
            "CREA          float64\n",
            "TYPE            int64\n",
            "DBIL          float64\n",
            "EO#           float64\n",
            "EO%           float64\n",
            "GGT           float64\n",
            "GLO           float64\n",
            "GLU.          float64\n",
            "HCT           float64\n",
            "HE4           float64\n",
            "HGB           float64\n",
            "IBIL          float64\n",
            "K             float64\n",
            "LYM#          float64\n",
            "LYM%          float64\n",
            "MCH           float64\n",
            "MCV           float64\n",
            "Menopause       int64\n",
            "Mg            float64\n",
            "MONO#         float64\n",
            "MONO%         float64\n",
            "MPV           float64\n",
            "Na            float64\n",
            "NEU           float64\n",
            "PCT           float64\n",
            "PDW           float64\n",
            "PHOS          float64\n",
            "PLT             int64\n",
            "RBC           float64\n",
            "RDW           float64\n",
            "TBIL          float64\n",
            "TP            float64\n",
            "UA            float64\n",
            "dtype: object\n"
          ]
        }
      ]
    },
    {
      "cell_type": "code",
      "source": [
        "# Impute missing values with the mean for numeric columns\n",
        "data1.fillna(data1.mean(), inplace=True)\n",
        "\n",
        "# Check for missing values after imputation\n",
        "print(\"Missing values after imputation:\")\n",
        "print(data1.isnull().sum())\n"
      ],
      "metadata": {
        "colab": {
          "base_uri": "https://localhost:8080/"
        },
        "id": "cvETFNrS3mTT",
        "outputId": "187b7800-66a9-4a77-d803-915b0170894f"
      },
      "execution_count": null,
      "outputs": [
        {
          "output_type": "stream",
          "name": "stdout",
          "text": [
            "Missing values after imputation:\n",
            "SUBJECT_ID    0\n",
            "AFP           0\n",
            "AG            0\n",
            "Age           0\n",
            "ALB           0\n",
            "ALP           0\n",
            "ALT           0\n",
            "AST           0\n",
            "BASO#         0\n",
            "BASO%         0\n",
            "BUN           0\n",
            "Ca            0\n",
            "CA125         0\n",
            "CA19-9        0\n",
            "CA72-4        0\n",
            "CEA           0\n",
            "CL            0\n",
            "CO2CP         0\n",
            "CREA          0\n",
            "TYPE          0\n",
            "DBIL          0\n",
            "EO#           0\n",
            "EO%           0\n",
            "GGT           0\n",
            "GLO           0\n",
            "GLU.          0\n",
            "HCT           0\n",
            "HE4           0\n",
            "HGB           0\n",
            "IBIL          0\n",
            "K             0\n",
            "LYM#          0\n",
            "LYM%          0\n",
            "MCH           0\n",
            "MCV           0\n",
            "Menopause     0\n",
            "Mg            0\n",
            "MONO#         0\n",
            "MONO%         0\n",
            "MPV           0\n",
            "Na            0\n",
            "NEU           0\n",
            "PCT           0\n",
            "PDW           0\n",
            "PHOS          0\n",
            "PLT           0\n",
            "RBC           0\n",
            "RDW           0\n",
            "TBIL          0\n",
            "TP            0\n",
            "UA            0\n",
            "dtype: int64\n"
          ]
        }
      ]
    },
    {
      "cell_type": "code",
      "source": [
        "# Example: Convert categorical variables to one-hot encoding\n",
        "data1 = pd.get_dummies(data1, drop_first=True)\n",
        "\n",
        "# Check the updated DataFrame\n",
        "print(data1.head())\n"
      ],
      "metadata": {
        "colab": {
          "base_uri": "https://localhost:8080/"
        },
        "id": "Y7gK5DuK3r0G",
        "outputId": "20a52a9f-c9de-41e3-c9bf-565057f31752"
      },
      "execution_count": null,
      "outputs": [
        {
          "output_type": "stream",
          "name": "stdout",
          "text": [
            "   SUBJECT_ID    AFP     AG  Age   ALB   ALP   ALT   AST  BASO#  BASO%  ...  \\\n",
            "0           1   3.58  19.36   47  45.4  56.0  11.0  24.0   0.01   0.30  ...   \n",
            "1           2  34.24  23.98   61  39.9  95.0   9.0  13.0   0.02   0.30  ...   \n",
            "2           3   1.50  18.40   39  45.4  77.0   9.0  18.0   0.03   0.60  ...   \n",
            "3           4   2.75  16.60   45  39.2  26.0  16.0  17.0   0.05   0.74  ...   \n",
            "4           5   2.36  19.97   45  35.0  47.0  21.0  27.0   0.01   0.10  ...   \n",
            "\n",
            "    NEU   PCT   PDW  PHOS  PLT   RBC   RDW  TBIL    TP     UA  \n",
            "0  76.2  0.09  13.4  1.46   74  2.64  13.7   5.5  73.9  396.4  \n",
            "1  76.5  0.30  11.2  1.09  304  4.89  12.7   6.8  72.0  119.2  \n",
            "2  69.7  0.13  15.2  0.97  112  4.62  12.0  14.8  77.9  209.2  \n",
            "3  65.5  0.25  17.4  1.25  339  4.01  14.6  10.9  66.1  215.6  \n",
            "4  59.5  0.28  11.9  0.94  272  4.40  13.4   5.3  66.5  206.0  \n",
            "\n",
            "[5 rows x 51 columns]\n"
          ]
        }
      ]
    },
    {
      "cell_type": "code",
      "source": [
        "# Display all column names\n",
        "print(data1.columns)\n"
      ],
      "metadata": {
        "colab": {
          "base_uri": "https://localhost:8080/"
        },
        "id": "h0iS-WHt4qu2",
        "outputId": "09383a21-7b5f-4af7-9f0a-2cc697608d56"
      },
      "execution_count": null,
      "outputs": [
        {
          "output_type": "stream",
          "name": "stdout",
          "text": [
            "Index(['SUBJECT_ID', 'AFP', 'AG', 'Age', 'ALB', 'ALP', 'ALT', 'AST', 'BASO#',\n",
            "       'BASO%', 'BUN', 'Ca', 'CA125', 'CA19-9', 'CA72-4', 'CEA', 'CL', 'CO2CP',\n",
            "       'CREA', 'TYPE', 'DBIL', 'EO#', 'EO%', 'GGT', 'GLO', 'GLU.', 'HCT',\n",
            "       'HE4', 'HGB', 'IBIL', 'K', 'LYM#', 'LYM%', 'MCH', 'MCV', 'Menopause',\n",
            "       'Mg', 'MONO#', 'MONO%', 'MPV', 'Na', 'NEU', 'PCT', 'PDW', 'PHOS', 'PLT',\n",
            "       'RBC', 'RDW', 'TBIL', 'TP', 'UA'],\n",
            "      dtype='object')\n"
          ]
        }
      ]
    },
    {
      "cell_type": "code",
      "source": [
        "# List all column names in the DataFrame\n",
        "print(data1.columns)\n"
      ],
      "metadata": {
        "colab": {
          "base_uri": "https://localhost:8080/"
        },
        "id": "UuLSteYs5uZc",
        "outputId": "f0604d7b-8963-46f1-8412-9048ae8fd844"
      },
      "execution_count": null,
      "outputs": [
        {
          "output_type": "stream",
          "name": "stdout",
          "text": [
            "Index(['SUBJECT_ID', 'AFP', 'AG', 'Age', 'ALB', 'ALP', 'ALT', 'AST', 'BASO#',\n",
            "       'BASO%', 'BUN', 'Ca', 'CA125', 'CA19-9', 'CA72-4', 'CEA', 'CL', 'CO2CP',\n",
            "       'CREA', 'TYPE', 'DBIL', 'EO#', 'EO%', 'GGT', 'GLO', 'GLU.', 'HCT',\n",
            "       'HE4', 'HGB', 'IBIL', 'K', 'LYM#', 'LYM%', 'MCH', 'MCV', 'Menopause',\n",
            "       'Mg', 'MONO#', 'MONO%', 'MPV', 'Na', 'NEU', 'PCT', 'PDW', 'PHOS', 'PLT',\n",
            "       'RBC', 'RDW', 'TBIL', 'TP', 'UA'],\n",
            "      dtype='object')\n"
          ]
        }
      ]
    },
    {
      "cell_type": "code",
      "source": [
        "# Display the first few rows of the DataFrame\n",
        "print(data1.head())\n"
      ],
      "metadata": {
        "colab": {
          "base_uri": "https://localhost:8080/"
        },
        "id": "VjIE7wtg54jy",
        "outputId": "32a1fe15-2c36-4084-816d-df32413bb419"
      },
      "execution_count": null,
      "outputs": [
        {
          "output_type": "stream",
          "name": "stdout",
          "text": [
            "   SUBJECT_ID    AFP     AG  Age   ALB   ALP   ALT   AST  BASO#  BASO%  ...  \\\n",
            "0           1   3.58  19.36   47  45.4  56.0  11.0  24.0   0.01   0.30  ...   \n",
            "1           2  34.24  23.98   61  39.9  95.0   9.0  13.0   0.02   0.30  ...   \n",
            "2           3   1.50  18.40   39  45.4  77.0   9.0  18.0   0.03   0.60  ...   \n",
            "3           4   2.75  16.60   45  39.2  26.0  16.0  17.0   0.05   0.74  ...   \n",
            "4           5   2.36  19.97   45  35.0  47.0  21.0  27.0   0.01   0.10  ...   \n",
            "\n",
            "    NEU   PCT   PDW  PHOS  PLT   RBC   RDW  TBIL    TP     UA  \n",
            "0  76.2  0.09  13.4  1.46   74  2.64  13.7   5.5  73.9  396.4  \n",
            "1  76.5  0.30  11.2  1.09  304  4.89  12.7   6.8  72.0  119.2  \n",
            "2  69.7  0.13  15.2  0.97  112  4.62  12.0  14.8  77.9  209.2  \n",
            "3  65.5  0.25  17.4  1.25  339  4.01  14.6  10.9  66.1  215.6  \n",
            "4  59.5  0.28  11.9  0.94  272  4.40  13.4   5.3  66.5  206.0  \n",
            "\n",
            "[5 rows x 51 columns]\n"
          ]
        }
      ]
    },
    {
      "cell_type": "code",
      "source": [
        "# Define a threshold for CA125 to indicate cancer presence\n",
        "# You should replace `threshold_value` with a medically appropriate cutoff for CA125 levels\n",
        "threshold_value = 35  # Example threshold, adjust based on domain knowledge\n",
        "\n",
        "# Create a binary target column where 1 indicates potential cancer presence and 0 indicates absence\n",
        "data1['Cancer_Present'] = (data1['CA125'] > threshold_value).astype(int)\n",
        "\n",
        "# Define features and target variable\n",
        "X = data1.drop(columns=['SUBJECT_ID', 'Cancer_Present'])  # Exclude subject ID and target column\n",
        "y = data1['Cancer_Present']  # Use the new target column\n",
        "\n",
        "# Split the data into training and test sets\n",
        "X_train, X_test, y_train, y_test = train_test_split(X, y, test_size=0.2, random_state=42)\n",
        "\n",
        "# Initialize the Random Forest model\n",
        "rf_model = RandomForestClassifier(n_estimators=100, random_state=42)\n",
        "\n",
        "# Train the model\n",
        "rf_model.fit(X_train, y_train)\n"
      ],
      "metadata": {
        "colab": {
          "base_uri": "https://localhost:8080/",
          "height": 75
        },
        "id": "oqdtZAjt6KYS",
        "outputId": "c3006c67-c88e-4e9b-cf08-09e883b727c8"
      },
      "execution_count": null,
      "outputs": [
        {
          "output_type": "execute_result",
          "data": {
            "text/plain": [
              "RandomForestClassifier(random_state=42)"
            ],
            "text/html": [
              "<style>#sk-container-id-1 {color: black;}#sk-container-id-1 pre{padding: 0;}#sk-container-id-1 div.sk-toggleable {background-color: white;}#sk-container-id-1 label.sk-toggleable__label {cursor: pointer;display: block;width: 100%;margin-bottom: 0;padding: 0.3em;box-sizing: border-box;text-align: center;}#sk-container-id-1 label.sk-toggleable__label-arrow:before {content: \"▸\";float: left;margin-right: 0.25em;color: #696969;}#sk-container-id-1 label.sk-toggleable__label-arrow:hover:before {color: black;}#sk-container-id-1 div.sk-estimator:hover label.sk-toggleable__label-arrow:before {color: black;}#sk-container-id-1 div.sk-toggleable__content {max-height: 0;max-width: 0;overflow: hidden;text-align: left;background-color: #f0f8ff;}#sk-container-id-1 div.sk-toggleable__content pre {margin: 0.2em;color: black;border-radius: 0.25em;background-color: #f0f8ff;}#sk-container-id-1 input.sk-toggleable__control:checked~div.sk-toggleable__content {max-height: 200px;max-width: 100%;overflow: auto;}#sk-container-id-1 input.sk-toggleable__control:checked~label.sk-toggleable__label-arrow:before {content: \"▾\";}#sk-container-id-1 div.sk-estimator input.sk-toggleable__control:checked~label.sk-toggleable__label {background-color: #d4ebff;}#sk-container-id-1 div.sk-label input.sk-toggleable__control:checked~label.sk-toggleable__label {background-color: #d4ebff;}#sk-container-id-1 input.sk-hidden--visually {border: 0;clip: rect(1px 1px 1px 1px);clip: rect(1px, 1px, 1px, 1px);height: 1px;margin: -1px;overflow: hidden;padding: 0;position: absolute;width: 1px;}#sk-container-id-1 div.sk-estimator {font-family: monospace;background-color: #f0f8ff;border: 1px dotted black;border-radius: 0.25em;box-sizing: border-box;margin-bottom: 0.5em;}#sk-container-id-1 div.sk-estimator:hover {background-color: #d4ebff;}#sk-container-id-1 div.sk-parallel-item::after {content: \"\";width: 100%;border-bottom: 1px solid gray;flex-grow: 1;}#sk-container-id-1 div.sk-label:hover label.sk-toggleable__label {background-color: #d4ebff;}#sk-container-id-1 div.sk-serial::before {content: \"\";position: absolute;border-left: 1px solid gray;box-sizing: border-box;top: 0;bottom: 0;left: 50%;z-index: 0;}#sk-container-id-1 div.sk-serial {display: flex;flex-direction: column;align-items: center;background-color: white;padding-right: 0.2em;padding-left: 0.2em;position: relative;}#sk-container-id-1 div.sk-item {position: relative;z-index: 1;}#sk-container-id-1 div.sk-parallel {display: flex;align-items: stretch;justify-content: center;background-color: white;position: relative;}#sk-container-id-1 div.sk-item::before, #sk-container-id-1 div.sk-parallel-item::before {content: \"\";position: absolute;border-left: 1px solid gray;box-sizing: border-box;top: 0;bottom: 0;left: 50%;z-index: -1;}#sk-container-id-1 div.sk-parallel-item {display: flex;flex-direction: column;z-index: 1;position: relative;background-color: white;}#sk-container-id-1 div.sk-parallel-item:first-child::after {align-self: flex-end;width: 50%;}#sk-container-id-1 div.sk-parallel-item:last-child::after {align-self: flex-start;width: 50%;}#sk-container-id-1 div.sk-parallel-item:only-child::after {width: 0;}#sk-container-id-1 div.sk-dashed-wrapped {border: 1px dashed gray;margin: 0 0.4em 0.5em 0.4em;box-sizing: border-box;padding-bottom: 0.4em;background-color: white;}#sk-container-id-1 div.sk-label label {font-family: monospace;font-weight: bold;display: inline-block;line-height: 1.2em;}#sk-container-id-1 div.sk-label-container {text-align: center;}#sk-container-id-1 div.sk-container {/* jupyter's `normalize.less` sets `[hidden] { display: none; }` but bootstrap.min.css set `[hidden] { display: none !important; }` so we also need the `!important` here to be able to override the default hidden behavior on the sphinx rendered scikit-learn.org. See: https://github.com/scikit-learn/scikit-learn/issues/21755 */display: inline-block !important;position: relative;}#sk-container-id-1 div.sk-text-repr-fallback {display: none;}</style><div id=\"sk-container-id-1\" class=\"sk-top-container\"><div class=\"sk-text-repr-fallback\"><pre>RandomForestClassifier(random_state=42)</pre><b>In a Jupyter environment, please rerun this cell to show the HTML representation or trust the notebook. <br />On GitHub, the HTML representation is unable to render, please try loading this page with nbviewer.org.</b></div><div class=\"sk-container\" hidden><div class=\"sk-item\"><div class=\"sk-estimator sk-toggleable\"><input class=\"sk-toggleable__control sk-hidden--visually\" id=\"sk-estimator-id-1\" type=\"checkbox\" checked><label for=\"sk-estimator-id-1\" class=\"sk-toggleable__label sk-toggleable__label-arrow\">RandomForestClassifier</label><div class=\"sk-toggleable__content\"><pre>RandomForestClassifier(random_state=42)</pre></div></div></div></div></div>"
            ]
          },
          "metadata": {},
          "execution_count": 23
        }
      ]
    },
    {
      "cell_type": "code",
      "source": [
        "from sklearn.metrics import accuracy_score, precision_score, recall_score, f1_score, roc_auc_score, confusion_matrix\n",
        "\n",
        "# Predict on the test set\n",
        "y_pred = rf_model.predict(X_test)\n",
        "\n",
        "# Calculate and print metrics\n",
        "accuracy = accuracy_score(y_test, y_pred)\n",
        "precision = precision_score(y_test, y_pred, average='binary')  # Use 'micro', 'macro', or 'weighted' if needed\n",
        "recall = recall_score(y_test, y_pred, average='binary')\n",
        "f1 = f1_score(y_test, y_pred, average='binary')\n",
        "roc_auc = roc_auc_score(y_test, rf_model.predict_proba(X_test)[:, 1])\n",
        "\n",
        "print(f\"Accuracy: {accuracy:.2f}\")\n",
        "print(f\"Precision: {precision:.2f}\")\n",
        "print(f\"Recall: {recall:.2f}\")\n",
        "print(f\"F1 Score: {f1:.2f}\")\n",
        "print(f\"ROC AUC Score: {roc_auc:.2f}\")\n",
        "\n",
        "# Confusion Matrix\n",
        "conf_matrix = confusion_matrix(y_test, y_pred)\n",
        "print(\"Confusion Matrix:\")\n",
        "print(conf_matrix)\n"
      ],
      "metadata": {
        "colab": {
          "base_uri": "https://localhost:8080/"
        },
        "id": "zf3-9u746byG",
        "outputId": "33786a26-7d57-47e6-9957-ef33dc52a648"
      },
      "execution_count": null,
      "outputs": [
        {
          "output_type": "stream",
          "name": "stdout",
          "text": [
            "Accuracy: 1.00\n",
            "Precision: 1.00\n",
            "Recall: 1.00\n",
            "F1 Score: 1.00\n",
            "ROC AUC Score: 1.00\n",
            "Confusion Matrix:\n",
            "[[28  0]\n",
            " [ 0 42]]\n"
          ]
        }
      ]
    },
    {
      "cell_type": "code",
      "source": [
        "# Feature Importances from the Random Forest model\n",
        "importances = rf_model.feature_importances_\n",
        "feature_names = X.columns\n",
        "feature_importances = sorted(zip(importances, feature_names), reverse=True)\n",
        "\n",
        "# Print feature importances\n",
        "print(\"Feature Importances:\")\n",
        "for importance, name in feature_importances:\n",
        "    print(f\"{name}: {importance:.4f}\")\n",
        "\n",
        "# Optionally, plot feature importances\n",
        "import matplotlib.pyplot as plt\n",
        "\n",
        "plt.figure(figsize=(10, 8))\n",
        "plt.barh([name for _, name in feature_importances], [importance for importance, _ in feature_importances])\n",
        "plt.xlabel(\"Importance\")\n",
        "plt.title(\"Feature Importances\")\n",
        "plt.show()\n"
      ],
      "metadata": {
        "colab": {
          "base_uri": "https://localhost:8080/",
          "height": 1000
        },
        "id": "1Ny26dwS6kA1",
        "outputId": "cfb38602-f10d-4930-8efe-3a9f59ef4448"
      },
      "execution_count": null,
      "outputs": [
        {
          "output_type": "stream",
          "name": "stdout",
          "text": [
            "Feature Importances:\n",
            "CA125: 0.4377\n",
            "HE4: 0.0652\n",
            "TYPE: 0.0534\n",
            "NEU: 0.0287\n",
            "LYM%: 0.0285\n",
            "MONO#: 0.0218\n",
            "TBIL: 0.0185\n",
            "CA19-9: 0.0180\n",
            "ALB: 0.0172\n",
            "CEA: 0.0156\n",
            "DBIL: 0.0150\n",
            "Age: 0.0144\n",
            "PLT: 0.0110\n",
            "MPV: 0.0110\n",
            "Ca: 0.0100\n",
            "TP: 0.0093\n",
            "MCV: 0.0093\n",
            "UA: 0.0091\n",
            "MCH: 0.0090\n",
            "PCT: 0.0090\n",
            "ALT: 0.0087\n",
            "RBC: 0.0085\n",
            "PDW: 0.0084\n",
            "BASO%: 0.0083\n",
            "IBIL: 0.0081\n",
            "BUN: 0.0080\n",
            "ALP: 0.0079\n",
            "Na: 0.0073\n",
            "CREA: 0.0072\n",
            "CL: 0.0072\n",
            "K: 0.0070\n",
            "GLO: 0.0069\n",
            "RDW: 0.0066\n",
            "GLU.: 0.0064\n",
            "EO#: 0.0064\n",
            "PHOS: 0.0062\n",
            "AFP: 0.0062\n",
            "HGB: 0.0061\n",
            "Mg: 0.0058\n",
            "LYM#: 0.0056\n",
            "BASO#: 0.0056\n",
            "EO%: 0.0051\n",
            "CA72-4: 0.0051\n",
            "MONO%: 0.0048\n",
            "GGT: 0.0047\n",
            "CO2CP: 0.0043\n",
            "AST: 0.0043\n",
            "HCT: 0.0042\n",
            "AG: 0.0038\n",
            "Menopause: 0.0035\n"
          ]
        },
        {
          "output_type": "display_data",
          "data": {
            "text/plain": [
              "<Figure size 1000x800 with 1 Axes>"
            ],
            "image/png": "[encoded data removed]"
          },
          "metadata": {}
        }
      ]
    },
    {
      "cell_type": "code",
      "source": [
        "from sklearn.model_selection import cross_val_score\n",
        "\n",
        "# Perform cross-validation\n",
        "cv_scores = cross_val_score(rf_model, X, y, cv=5, scoring='accuracy')\n",
        "print(\"Cross-Validation Accuracy Scores:\", cv_scores)\n",
        "print(\"Mean CV Accuracy:\", cv_scores.mean())\n"
      ],
      "metadata": {
        "colab": {
          "base_uri": "https://localhost:8080/"
        },
        "id": "lgwYM9gY8H4A",
        "outputId": "1131818a-10f1-4f27-cc1c-4a0b734dedf0"
      },
      "execution_count": null,
      "outputs": [
        {
          "output_type": "stream",
          "name": "stdout",
          "text": [
            "Cross-Validation Accuracy Scores: [0.87142857 1.         1.         0.97142857 1.        ]\n",
            "Mean CV Accuracy: 0.9685714285714286\n"
          ]
        }
      ]
    },
    {
      "cell_type": "code",
      "source": [
        "from sklearn.model_selection import GridSearchCV\n",
        "\n",
        "# Define parameter grid\n",
        "param_grid = {\n",
        "    'n_estimators': [50, 100, 200],\n",
        "    'max_depth': [None, 10, 20, 30],\n",
        "    'min_samples_split': [2, 5, 10],\n",
        "    'min_samples_leaf': [1, 2, 4]\n",
        "}\n",
        "\n",
        "# Initialize GridSearch\n",
        "grid_search = GridSearchCV(rf_model, param_grid, cv=5, scoring='accuracy')\n",
        "\n",
        "# Fit GridSearch\n",
        "grid_search.fit(X_train, y_train)\n",
        "\n",
        "print(\"Best Hyperparameters:\", grid_search.best_params_)\n",
        "print(\"Best Cross-Validation Accuracy:\", grid_search.best_score_)\n"
      ],
      "metadata": {
        "colab": {
          "base_uri": "https://localhost:8080/"
        },
        "id": "XtxPZjBO8LLJ",
        "outputId": "026fb83e-3373-48a4-d63a-d45232855e40"
      },
      "execution_count": null,
      "outputs": [
        {
          "output_type": "stream",
          "name": "stdout",
          "text": [
            "Best Hyperparameters: {'max_depth': None, 'min_samples_leaf': 1, 'min_samples_split': 2, 'n_estimators': 100}\n",
            "Best Cross-Validation Accuracy: 0.9964285714285716\n"
          ]
        }
      ]
    },
    {
      "cell_type": "code",
      "source": [
        "from sklearn.metrics import roc_curve, auc\n",
        "import matplotlib.pyplot as plt\n",
        "\n",
        "fpr, tpr, _ = roc_curve(y_test, rf_model.predict_proba(X_test)[:, 1])\n",
        "roc_auc = auc(fpr, tpr)\n",
        "\n",
        "plt.figure()\n",
        "plt.plot(fpr, tpr, color='darkorange', lw=2, label=f'ROC curve (area = {roc_auc:.2f})')\n",
        "plt.plot([0, 1], [0, 1], color='navy', lw=2, linestyle='--')\n",
        "plt.xlim([0.0, 1.0])\n",
        "plt.ylim([0.0, 1.05])\n",
        "plt.xlabel('False Positive Rate')\n",
        "plt.ylabel('True Positive Rate')\n",
        "plt.title('Receiver Operating Characteristic')\n",
        "plt.legend(loc=\"lower right\")\n",
        "plt.show()\n"
      ],
      "metadata": {
        "colab": {
          "base_uri": "https://localhost:8080/",
          "height": 472
        },
        "id": "uq_QsHcS-UE5",
        "outputId": "54f6ac01-22ac-4e75-97cd-1318f3acd8b2"
      },
      "execution_count": null,
      "outputs": [
        {
          "output_type": "display_data",
          "data": {
            "text/plain": [
              "<Figure size 640x480 with 1 Axes>"
            ],
            "image/png": "[encoded data removed]"
          },
          "metadata": {}
        }
      ]
    },
    {
      "cell_type": "code",
      "source": [
        "import seaborn as sns\n",
        "from sklearn.metrics import confusion_matrix\n",
        "\n",
        "cm = confusion_matrix(y_test, y_pred)\n",
        "\n",
        "plt.figure(figsize=(8, 6))\n",
        "sns.heatmap(cm, annot=True, fmt='d', cmap='Blues', xticklabels=['No Cancer', 'Cancer'], yticklabels=['No Cancer', 'Cancer'])\n",
        "plt.ylabel('Actual')\n",
        "plt.xlabel('Predicted')\n",
        "plt.title('Confusion Matrix')\n",
        "plt.show()\n"
      ],
      "metadata": {
        "colab": {
          "base_uri": "https://localhost:8080/",
          "height": 564
        },
        "id": "qtMZITfb-rpx",
        "outputId": "e1687d76-035a-4c45-fa17-1410486f62e7"
      },
      "execution_count": null,
      "outputs": [
        {
          "output_type": "display_data",
          "data": {
            "text/plain": [
              "<Figure size 800x600 with 2 Axes>"
            ],
            "image/png": "[encoded data removed]"
          },
          "metadata": {}
        }
      ]
    },
    {
      "cell_type": "code",
      "source": [
        "import matplotlib.pyplot as plt\n",
        "import seaborn as sns\n",
        "from sklearn.metrics import confusion_matrix\n",
        "\n",
        "\n",
        "cm = confusion_matrix(y_test, y_pred)\n",
        "\n",
        "plt.figure(figsize=(8, 6))\n",
        "sns.heatmap(cm, annot=True, fmt='d', cmap='pink', xticklabels=['No Cancer', 'Cancer'], yticklabels=['No Cancer', 'Cancer'])\n",
        "plt.ylabel('Actual', fontsize=12)\n",
        "plt.xlabel('Predicted', fontsize=12)\n",
        "plt.title('Confusion Matrix', fontsize=14)\n",
        "plt.show()\n"
      ],
      "metadata": {
        "colab": {
          "base_uri": "https://localhost:8080/",
          "height": 569
        },
        "id": "7yLtpdGmBuOc",
        "outputId": "df38802e-5fe7-4102-8f91-d2329ea6a2fe"
      },
      "execution_count": null,
      "outputs": [
        {
          "output_type": "display_data",
          "data": {
            "text/plain": [
              "<Figure size 800x600 with 2 Axes>"
            ],
            "image/png": "[encoded data removed]"
          },
          "metadata": {}
        }
      ]
    },
    {
      "cell_type": "code",
      "source": [
        "from joblib import dump\n",
        "\n",
        "# Save the model to a file\n",
        "dump(rf_model, 'random_forest_model.joblib')\n"
      ],
      "metadata": {
        "colab": {
          "base_uri": "https://localhost:8080/"
        },
        "id": "k9oqQsNnCaSV",
        "outputId": "f6dc7f84-7875-4486-e089-0f567b16c8be"
      },
      "execution_count": null,
      "outputs": [
        {
          "output_type": "execute_result",
          "data": {
            "text/plain": [
              "['random_forest_model.joblib']"
            ]
          },
          "metadata": {},
          "execution_count": 44
        }
      ]
    },
    {
      "cell_type": "code",
      "source": [
        "from joblib import load\n",
        "\n",
        "# Load the model from the file\n",
        "loaded_model = load('random_forest_model.joblib')\n",
        "\n",
        "# Use the loaded model to make predictions\n",
        "# predictions = loaded_model.predict(X_test)\n"
      ],
      "metadata": {
        "id": "q2YbD4pvCbvY"
      },
      "execution_count": null,
      "outputs": []
    }
  ]
}